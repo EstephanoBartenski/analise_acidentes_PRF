{
 "cells": [
  {
   "cell_type": "code",
   "execution_count": 1,
   "metadata": {},
   "outputs": [],
   "source": [
    "# importando pacotes necessários\n",
    "import pandas as pd\n",
    "import matplotlib.pyplot as plt\n",
    "import seaborn as sns\n",
    "import altair as alt"
   ]
  },
  {
   "cell_type": "code",
   "execution_count": 2,
   "metadata": {},
   "outputs": [],
   "source": [
    "# lendo o arquivo\n",
    "df = pd.read_csv('acidentes2019_todas_causas_tipos.csv', sep=';', engine='python')"
   ]
  },
  {
   "cell_type": "code",
   "execution_count": 3,
   "metadata": {},
   "outputs": [
    {
     "data": {
      "text/html": [
       "<div>\n",
       "<style scoped>\n",
       "    .dataframe tbody tr th:only-of-type {\n",
       "        vertical-align: middle;\n",
       "    }\n",
       "\n",
       "    .dataframe tbody tr th {\n",
       "        vertical-align: top;\n",
       "    }\n",
       "\n",
       "    .dataframe thead th {\n",
       "        text-align: right;\n",
       "    }\n",
       "</style>\n",
       "<table border=\"1\" class=\"dataframe\">\n",
       "  <thead>\n",
       "    <tr style=\"text-align: right;\">\n",
       "      <th></th>\n",
       "      <th>id</th>\n",
       "      <th>pesid</th>\n",
       "      <th>data_inversa</th>\n",
       "      <th>dia_semana</th>\n",
       "      <th>horario</th>\n",
       "      <th>uf</th>\n",
       "      <th>br</th>\n",
       "      <th>km</th>\n",
       "      <th>municipio</th>\n",
       "      <th>causa_principal</th>\n",
       "      <th>...</th>\n",
       "      <th>sexo</th>\n",
       "      <th>ilesos</th>\n",
       "      <th>feridos_leves</th>\n",
       "      <th>feridos_graves</th>\n",
       "      <th>mortos</th>\n",
       "      <th>latitude</th>\n",
       "      <th>longitude</th>\n",
       "      <th>regional</th>\n",
       "      <th>delegacia</th>\n",
       "      <th>uop</th>\n",
       "    </tr>\n",
       "  </thead>\n",
       "  <tbody>\n",
       "    <tr>\n",
       "      <th>0</th>\n",
       "      <td>182210.0</td>\n",
       "      <td>402103.0</td>\n",
       "      <td>2019-01-01</td>\n",
       "      <td>terça-feira</td>\n",
       "      <td>01:30:00</td>\n",
       "      <td>SP</td>\n",
       "      <td>116.0</td>\n",
       "      <td>218</td>\n",
       "      <td>GUARULHOS</td>\n",
       "      <td>Sim</td>\n",
       "      <td>...</td>\n",
       "      <td>Masculino</td>\n",
       "      <td>0</td>\n",
       "      <td>1</td>\n",
       "      <td>0</td>\n",
       "      <td>0</td>\n",
       "      <td>-23,46052014</td>\n",
       "      <td>-46,48772478</td>\n",
       "      <td>SR-SP</td>\n",
       "      <td>DEL6/1</td>\n",
       "      <td>UOP01/SP</td>\n",
       "    </tr>\n",
       "    <tr>\n",
       "      <th>1</th>\n",
       "      <td>182210.0</td>\n",
       "      <td>402106.0</td>\n",
       "      <td>2019-01-01</td>\n",
       "      <td>terça-feira</td>\n",
       "      <td>01:30:00</td>\n",
       "      <td>SP</td>\n",
       "      <td>116.0</td>\n",
       "      <td>218</td>\n",
       "      <td>GUARULHOS</td>\n",
       "      <td>Sim</td>\n",
       "      <td>...</td>\n",
       "      <td>Masculino</td>\n",
       "      <td>0</td>\n",
       "      <td>1</td>\n",
       "      <td>0</td>\n",
       "      <td>0</td>\n",
       "      <td>-23,46052014</td>\n",
       "      <td>-46,48772478</td>\n",
       "      <td>SR-SP</td>\n",
       "      <td>DEL6/1</td>\n",
       "      <td>UOP01/SP</td>\n",
       "    </tr>\n",
       "    <tr>\n",
       "      <th>2</th>\n",
       "      <td>182210.0</td>\n",
       "      <td>402104.0</td>\n",
       "      <td>2019-01-01</td>\n",
       "      <td>terça-feira</td>\n",
       "      <td>01:30:00</td>\n",
       "      <td>SP</td>\n",
       "      <td>116.0</td>\n",
       "      <td>218</td>\n",
       "      <td>GUARULHOS</td>\n",
       "      <td>Sim</td>\n",
       "      <td>...</td>\n",
       "      <td>Feminino</td>\n",
       "      <td>0</td>\n",
       "      <td>1</td>\n",
       "      <td>0</td>\n",
       "      <td>0</td>\n",
       "      <td>-23,46052014</td>\n",
       "      <td>-46,48772478</td>\n",
       "      <td>SR-SP</td>\n",
       "      <td>DEL6/1</td>\n",
       "      <td>UOP01/SP</td>\n",
       "    </tr>\n",
       "    <tr>\n",
       "      <th>3</th>\n",
       "      <td>182210.0</td>\n",
       "      <td>402102.0</td>\n",
       "      <td>2019-01-01</td>\n",
       "      <td>terça-feira</td>\n",
       "      <td>01:30:00</td>\n",
       "      <td>SP</td>\n",
       "      <td>116.0</td>\n",
       "      <td>218</td>\n",
       "      <td>GUARULHOS</td>\n",
       "      <td>Sim</td>\n",
       "      <td>...</td>\n",
       "      <td>Masculino</td>\n",
       "      <td>0</td>\n",
       "      <td>1</td>\n",
       "      <td>0</td>\n",
       "      <td>0</td>\n",
       "      <td>-23,46052014</td>\n",
       "      <td>-46,48772478</td>\n",
       "      <td>SR-SP</td>\n",
       "      <td>DEL6/1</td>\n",
       "      <td>UOP01/SP</td>\n",
       "    </tr>\n",
       "    <tr>\n",
       "      <th>4</th>\n",
       "      <td>182211.0</td>\n",
       "      <td>402126.0</td>\n",
       "      <td>2019-01-01</td>\n",
       "      <td>terça-feira</td>\n",
       "      <td>01:30:00</td>\n",
       "      <td>PR</td>\n",
       "      <td>373.0</td>\n",
       "      <td>177,3</td>\n",
       "      <td>PONTA GROSSA</td>\n",
       "      <td>Sim</td>\n",
       "      <td>...</td>\n",
       "      <td>Masculino</td>\n",
       "      <td>0</td>\n",
       "      <td>1</td>\n",
       "      <td>0</td>\n",
       "      <td>0</td>\n",
       "      <td>-25,05533957</td>\n",
       "      <td>-50,22776753</td>\n",
       "      <td>SR-PR</td>\n",
       "      <td>DEL7/3</td>\n",
       "      <td>UOP01/PR</td>\n",
       "    </tr>\n",
       "  </tbody>\n",
       "</table>\n",
       "<p>5 rows × 37 columns</p>\n",
       "</div>"
      ],
      "text/plain": [
       "         id     pesid data_inversa   dia_semana   horario  uf     br     km  \\\n",
       "0  182210.0  402103.0   2019-01-01  terça-feira  01:30:00  SP  116.0    218   \n",
       "1  182210.0  402106.0   2019-01-01  terça-feira  01:30:00  SP  116.0    218   \n",
       "2  182210.0  402104.0   2019-01-01  terça-feira  01:30:00  SP  116.0    218   \n",
       "3  182210.0  402102.0   2019-01-01  terça-feira  01:30:00  SP  116.0    218   \n",
       "4  182211.0  402126.0   2019-01-01  terça-feira  01:30:00  PR  373.0  177,3   \n",
       "\n",
       "      municipio causa_principal  ...       sexo  ilesos feridos_leves  \\\n",
       "0     GUARULHOS             Sim  ...  Masculino       0             1   \n",
       "1     GUARULHOS             Sim  ...  Masculino       0             1   \n",
       "2     GUARULHOS             Sim  ...   Feminino       0             1   \n",
       "3     GUARULHOS             Sim  ...  Masculino       0             1   \n",
       "4  PONTA GROSSA             Sim  ...  Masculino       0             1   \n",
       "\n",
       "  feridos_graves mortos      latitude     longitude regional delegacia  \\\n",
       "0              0      0  -23,46052014  -46,48772478    SR-SP    DEL6/1   \n",
       "1              0      0  -23,46052014  -46,48772478    SR-SP    DEL6/1   \n",
       "2              0      0  -23,46052014  -46,48772478    SR-SP    DEL6/1   \n",
       "3              0      0  -23,46052014  -46,48772478    SR-SP    DEL6/1   \n",
       "4              0      0  -25,05533957  -50,22776753    SR-PR    DEL7/3   \n",
       "\n",
       "        uop  \n",
       "0  UOP01/SP  \n",
       "1  UOP01/SP  \n",
       "2  UOP01/SP  \n",
       "3  UOP01/SP  \n",
       "4  UOP01/PR  \n",
       "\n",
       "[5 rows x 37 columns]"
      ]
     },
     "execution_count": 3,
     "metadata": {},
     "output_type": "execute_result"
    }
   ],
   "source": [
    "# primeiras colunas do dataset\n",
    "df.head()"
   ]
  },
  {
   "cell_type": "code",
   "execution_count": 4,
   "metadata": {},
   "outputs": [
    {
     "data": {
      "text/html": [
       "<div>\n",
       "<style scoped>\n",
       "    .dataframe tbody tr th:only-of-type {\n",
       "        vertical-align: middle;\n",
       "    }\n",
       "\n",
       "    .dataframe tbody tr th {\n",
       "        vertical-align: top;\n",
       "    }\n",
       "\n",
       "    .dataframe thead th {\n",
       "        text-align: right;\n",
       "    }\n",
       "</style>\n",
       "<table border=\"1\" class=\"dataframe\">\n",
       "  <thead>\n",
       "    <tr style=\"text-align: right;\">\n",
       "      <th></th>\n",
       "      <th>id</th>\n",
       "      <th>pesid</th>\n",
       "      <th>data_inversa</th>\n",
       "      <th>dia_semana</th>\n",
       "      <th>horario</th>\n",
       "      <th>uf</th>\n",
       "      <th>br</th>\n",
       "      <th>km</th>\n",
       "      <th>municipio</th>\n",
       "      <th>causa_principal</th>\n",
       "      <th>...</th>\n",
       "      <th>sexo</th>\n",
       "      <th>ilesos</th>\n",
       "      <th>feridos_leves</th>\n",
       "      <th>feridos_graves</th>\n",
       "      <th>mortos</th>\n",
       "      <th>latitude</th>\n",
       "      <th>longitude</th>\n",
       "      <th>regional</th>\n",
       "      <th>delegacia</th>\n",
       "      <th>uop</th>\n",
       "    </tr>\n",
       "  </thead>\n",
       "  <tbody>\n",
       "    <tr>\n",
       "      <th>331661</th>\n",
       "      <td>266434.0</td>\n",
       "      <td>593948.0</td>\n",
       "      <td>2019-06-03</td>\n",
       "      <td>segunda-feira</td>\n",
       "      <td>19:00:00</td>\n",
       "      <td>CE</td>\n",
       "      <td>222.0</td>\n",
       "      <td>1,4</td>\n",
       "      <td>CAUCAIA</td>\n",
       "      <td>Sim</td>\n",
       "      <td>...</td>\n",
       "      <td>Masculino</td>\n",
       "      <td>0</td>\n",
       "      <td>0</td>\n",
       "      <td>1</td>\n",
       "      <td>0</td>\n",
       "      <td>-3,736507</td>\n",
       "      <td>-38,65337</td>\n",
       "      <td>SR-CE</td>\n",
       "      <td>DEL16/1</td>\n",
       "      <td>UOP01/CE</td>\n",
       "    </tr>\n",
       "    <tr>\n",
       "      <th>331662</th>\n",
       "      <td>266434.0</td>\n",
       "      <td>593947.0</td>\n",
       "      <td>2019-06-03</td>\n",
       "      <td>segunda-feira</td>\n",
       "      <td>19:00:00</td>\n",
       "      <td>CE</td>\n",
       "      <td>222.0</td>\n",
       "      <td>1,4</td>\n",
       "      <td>CAUCAIA</td>\n",
       "      <td>Sim</td>\n",
       "      <td>...</td>\n",
       "      <td>Masculino</td>\n",
       "      <td>1</td>\n",
       "      <td>0</td>\n",
       "      <td>0</td>\n",
       "      <td>0</td>\n",
       "      <td>-3,736507</td>\n",
       "      <td>-38,65337</td>\n",
       "      <td>SR-CE</td>\n",
       "      <td>DEL16/1</td>\n",
       "      <td>UOP01/CE</td>\n",
       "    </tr>\n",
       "    <tr>\n",
       "      <th>331663</th>\n",
       "      <td>266573.0</td>\n",
       "      <td>594270.0</td>\n",
       "      <td>2019-07-13</td>\n",
       "      <td>sábado</td>\n",
       "      <td>19:35:00</td>\n",
       "      <td>PR</td>\n",
       "      <td>373.0</td>\n",
       "      <td>425</td>\n",
       "      <td>CANDOI</td>\n",
       "      <td>Sim</td>\n",
       "      <td>...</td>\n",
       "      <td>Masculino</td>\n",
       "      <td>0</td>\n",
       "      <td>0</td>\n",
       "      <td>1</td>\n",
       "      <td>0</td>\n",
       "      <td>-25,71180139</td>\n",
       "      <td>-52,18373987</td>\n",
       "      <td>SR-PR</td>\n",
       "      <td>DEL7/3</td>\n",
       "      <td>UOP02/PR</td>\n",
       "    </tr>\n",
       "    <tr>\n",
       "      <th>331664</th>\n",
       "      <td>266573.0</td>\n",
       "      <td>594270.0</td>\n",
       "      <td>2019-07-13</td>\n",
       "      <td>sábado</td>\n",
       "      <td>19:35:00</td>\n",
       "      <td>PR</td>\n",
       "      <td>373.0</td>\n",
       "      <td>425</td>\n",
       "      <td>CANDOI</td>\n",
       "      <td>Sim</td>\n",
       "      <td>...</td>\n",
       "      <td>Masculino</td>\n",
       "      <td>0</td>\n",
       "      <td>0</td>\n",
       "      <td>1</td>\n",
       "      <td>0</td>\n",
       "      <td>-25,71180139</td>\n",
       "      <td>-52,18373987</td>\n",
       "      <td>SR-PR</td>\n",
       "      <td>DEL7/3</td>\n",
       "      <td>UOP02/PR</td>\n",
       "    </tr>\n",
       "    <tr>\n",
       "      <th>331665</th>\n",
       "      <td>266627.0</td>\n",
       "      <td>594393.0</td>\n",
       "      <td>2019-10-22</td>\n",
       "      <td>terça-feira</td>\n",
       "      <td>20:20:00</td>\n",
       "      <td>BA</td>\n",
       "      <td>324.0</td>\n",
       "      <td>608</td>\n",
       "      <td>SIMOES FILHO</td>\n",
       "      <td>Sim</td>\n",
       "      <td>...</td>\n",
       "      <td>Masculino</td>\n",
       "      <td>0</td>\n",
       "      <td>1</td>\n",
       "      <td>0</td>\n",
       "      <td>0</td>\n",
       "      <td>-12,78155812</td>\n",
       "      <td>-38,41655733</td>\n",
       "      <td>SR-BA</td>\n",
       "      <td>DEL10/1</td>\n",
       "      <td>UOP01/BA</td>\n",
       "    </tr>\n",
       "  </tbody>\n",
       "</table>\n",
       "<p>5 rows × 37 columns</p>\n",
       "</div>"
      ],
      "text/plain": [
       "              id     pesid data_inversa     dia_semana   horario  uf     br  \\\n",
       "331661  266434.0  593948.0   2019-06-03  segunda-feira  19:00:00  CE  222.0   \n",
       "331662  266434.0  593947.0   2019-06-03  segunda-feira  19:00:00  CE  222.0   \n",
       "331663  266573.0  594270.0   2019-07-13         sábado  19:35:00  PR  373.0   \n",
       "331664  266573.0  594270.0   2019-07-13         sábado  19:35:00  PR  373.0   \n",
       "331665  266627.0  594393.0   2019-10-22    terça-feira  20:20:00  BA  324.0   \n",
       "\n",
       "         km     municipio causa_principal  ...       sexo  ilesos  \\\n",
       "331661  1,4       CAUCAIA             Sim  ...  Masculino       0   \n",
       "331662  1,4       CAUCAIA             Sim  ...  Masculino       1   \n",
       "331663  425        CANDOI             Sim  ...  Masculino       0   \n",
       "331664  425        CANDOI             Sim  ...  Masculino       0   \n",
       "331665  608  SIMOES FILHO             Sim  ...  Masculino       0   \n",
       "\n",
       "       feridos_leves feridos_graves mortos      latitude     longitude  \\\n",
       "331661             0              1      0     -3,736507     -38,65337   \n",
       "331662             0              0      0     -3,736507     -38,65337   \n",
       "331663             0              1      0  -25,71180139  -52,18373987   \n",
       "331664             0              1      0  -25,71180139  -52,18373987   \n",
       "331665             1              0      0  -12,78155812  -38,41655733   \n",
       "\n",
       "       regional delegacia       uop  \n",
       "331661    SR-CE   DEL16/1  UOP01/CE  \n",
       "331662    SR-CE   DEL16/1  UOP01/CE  \n",
       "331663    SR-PR    DEL7/3  UOP02/PR  \n",
       "331664    SR-PR    DEL7/3  UOP02/PR  \n",
       "331665    SR-BA   DEL10/1  UOP01/BA  \n",
       "\n",
       "[5 rows x 37 columns]"
      ]
     },
     "execution_count": 4,
     "metadata": {},
     "output_type": "execute_result"
    }
   ],
   "source": [
    "# últimas colunas do dataset\n",
    "df.tail()"
   ]
  },
  {
   "cell_type": "code",
   "execution_count": 5,
   "metadata": {},
   "outputs": [
    {
     "data": {
      "text/plain": [
       "(331666, 37)"
      ]
     },
     "execution_count": 5,
     "metadata": {},
     "output_type": "execute_result"
    }
   ],
   "source": [
    "# formato do dataset\n",
    "df.shape"
   ]
  },
  {
   "cell_type": "code",
   "execution_count": 6,
   "metadata": {},
   "outputs": [
    {
     "data": {
      "text/plain": [
       "id                        float64\n",
       "pesid                     float64\n",
       "data_inversa               object\n",
       "dia_semana                 object\n",
       "horario                    object\n",
       "uf                         object\n",
       "br                        float64\n",
       "km                         object\n",
       "municipio                  object\n",
       "causa_principal            object\n",
       "causa_acidente             object\n",
       "ordem_tipo_acidente       float64\n",
       "tipo_acidente              object\n",
       "classificacao_acidente     object\n",
       "fase_dia                   object\n",
       "sentido_via                object\n",
       "condicao_metereologica     object\n",
       "tipo_pista                 object\n",
       "tracado_via                object\n",
       "uso_solo                   object\n",
       "id_veiculo                  int64\n",
       "tipo_veiculo               object\n",
       "marca                      object\n",
       "ano_fabricacao_veiculo    float64\n",
       "tipo_envolvido             object\n",
       "estado_fisico              object\n",
       "idade                     float64\n",
       "sexo                       object\n",
       "ilesos                      int64\n",
       "feridos_leves               int64\n",
       "feridos_graves              int64\n",
       "mortos                      int64\n",
       "latitude                   object\n",
       "longitude                  object\n",
       "regional                   object\n",
       "delegacia                  object\n",
       "uop                        object\n",
       "dtype: object"
      ]
     },
     "execution_count": 6,
     "metadata": {},
     "output_type": "execute_result"
    }
   ],
   "source": [
    "# tipos das entradas de cada variável\n",
    "df.dtypes"
   ]
  },
  {
   "cell_type": "code",
   "execution_count": 7,
   "metadata": {},
   "outputs": [
    {
     "data": {
      "text/plain": [
       "Index(['id', 'pesid', 'data_inversa', 'dia_semana', 'horario', 'uf', 'br',\n",
       "       'km', 'municipio', 'causa_principal', 'causa_acidente',\n",
       "       'ordem_tipo_acidente', 'tipo_acidente', 'classificacao_acidente',\n",
       "       'fase_dia', 'sentido_via', 'condicao_metereologica', 'tipo_pista',\n",
       "       'tracado_via', 'uso_solo', 'id_veiculo', 'tipo_veiculo', 'marca',\n",
       "       'ano_fabricacao_veiculo', 'tipo_envolvido', 'estado_fisico', 'idade',\n",
       "       'sexo', 'ilesos', 'feridos_leves', 'feridos_graves', 'mortos',\n",
       "       'latitude', 'longitude', 'regional', 'delegacia', 'uop'],\n",
       "      dtype='object')"
      ]
     },
     "execution_count": 7,
     "metadata": {},
     "output_type": "execute_result"
    }
   ],
   "source": [
    "# todas as variáveis (colunas)\n",
    "df.columns"
   ]
  },
  {
   "cell_type": "code",
   "execution_count": 8,
   "metadata": {},
   "outputs": [],
   "source": [
    "# excluindo colunas que não serão utilizadas \n",
    "df = df.drop(['pesid', 'km', 'causa_principal', 'ordem_tipo_acidente', 'sentido_via',\n",
    "                  'uso_solo', 'id_veiculo', 'marca', 'ano_fabricacao_veiculo', \n",
    "                  'tipo_envolvido', 'latitude', 'longitude', 'regional', 'delegacia', 'uop'], axis=1)"
   ]
  },
  {
   "cell_type": "code",
   "execution_count": 9,
   "metadata": {},
   "outputs": [
    {
     "name": "stdout",
     "output_type": "stream",
     "text": [
      "idade            0.186537\n",
      "br               0.001131\n",
      "tipo_acidente    0.000121\n",
      "dtype: float64\n"
     ]
    }
   ],
   "source": [
    "# porcentagem de dados omissos/faltantes (em ordem decrescente)\n",
    "nullseries = (df.isnull().sum() / df.shape[0]).sort_values(ascending=False,)\n",
    "print(nullseries[nullseries > 0])"
   ]
  },
  {
   "cell_type": "code",
   "execution_count": 10,
   "metadata": {},
   "outputs": [
    {
     "data": {
      "text/html": [
       "<div>\n",
       "<style scoped>\n",
       "    .dataframe tbody tr th:only-of-type {\n",
       "        vertical-align: middle;\n",
       "    }\n",
       "\n",
       "    .dataframe tbody tr th {\n",
       "        vertical-align: top;\n",
       "    }\n",
       "\n",
       "    .dataframe thead th {\n",
       "        text-align: right;\n",
       "    }\n",
       "</style>\n",
       "<table border=\"1\" class=\"dataframe\">\n",
       "  <thead>\n",
       "    <tr style=\"text-align: right;\">\n",
       "      <th></th>\n",
       "      <th>id</th>\n",
       "      <th>br</th>\n",
       "      <th>idade</th>\n",
       "      <th>ilesos</th>\n",
       "      <th>feridos_leves</th>\n",
       "      <th>feridos_graves</th>\n",
       "      <th>mortos</th>\n",
       "    </tr>\n",
       "  </thead>\n",
       "  <tbody>\n",
       "    <tr>\n",
       "      <th>count</th>\n",
       "      <td>331666.000000</td>\n",
       "      <td>331291.000000</td>\n",
       "      <td>269798.000000</td>\n",
       "      <td>331666.000000</td>\n",
       "      <td>331666.000000</td>\n",
       "      <td>331666.000000</td>\n",
       "      <td>331666.000000</td>\n",
       "    </tr>\n",
       "    <tr>\n",
       "      <th>mean</th>\n",
       "      <td>222008.799376</td>\n",
       "      <td>219.548672</td>\n",
       "      <td>40.190035</td>\n",
       "      <td>0.367222</td>\n",
       "      <td>0.332880</td>\n",
       "      <td>0.109698</td>\n",
       "      <td>0.038180</td>\n",
       "    </tr>\n",
       "    <tr>\n",
       "      <th>std</th>\n",
       "      <td>22681.335813</td>\n",
       "      <td>131.266679</td>\n",
       "      <td>62.983640</td>\n",
       "      <td>0.482048</td>\n",
       "      <td>0.471245</td>\n",
       "      <td>0.312513</td>\n",
       "      <td>0.191631</td>\n",
       "    </tr>\n",
       "    <tr>\n",
       "      <th>min</th>\n",
       "      <td>182210.000000</td>\n",
       "      <td>10.000000</td>\n",
       "      <td>0.000000</td>\n",
       "      <td>0.000000</td>\n",
       "      <td>0.000000</td>\n",
       "      <td>0.000000</td>\n",
       "      <td>0.000000</td>\n",
       "    </tr>\n",
       "    <tr>\n",
       "      <th>25%</th>\n",
       "      <td>202231.000000</td>\n",
       "      <td>101.000000</td>\n",
       "      <td>27.000000</td>\n",
       "      <td>0.000000</td>\n",
       "      <td>0.000000</td>\n",
       "      <td>0.000000</td>\n",
       "      <td>0.000000</td>\n",
       "    </tr>\n",
       "    <tr>\n",
       "      <th>50%</th>\n",
       "      <td>222219.000000</td>\n",
       "      <td>163.000000</td>\n",
       "      <td>37.000000</td>\n",
       "      <td>0.000000</td>\n",
       "      <td>0.000000</td>\n",
       "      <td>0.000000</td>\n",
       "      <td>0.000000</td>\n",
       "    </tr>\n",
       "    <tr>\n",
       "      <th>75%</th>\n",
       "      <td>241841.000000</td>\n",
       "      <td>364.000000</td>\n",
       "      <td>48.000000</td>\n",
       "      <td>1.000000</td>\n",
       "      <td>1.000000</td>\n",
       "      <td>0.000000</td>\n",
       "      <td>0.000000</td>\n",
       "    </tr>\n",
       "    <tr>\n",
       "      <th>max</th>\n",
       "      <td>266627.000000</td>\n",
       "      <td>495.000000</td>\n",
       "      <td>2018.000000</td>\n",
       "      <td>1.000000</td>\n",
       "      <td>1.000000</td>\n",
       "      <td>1.000000</td>\n",
       "      <td>1.000000</td>\n",
       "    </tr>\n",
       "  </tbody>\n",
       "</table>\n",
       "</div>"
      ],
      "text/plain": [
       "                  id             br          idade         ilesos  \\\n",
       "count  331666.000000  331291.000000  269798.000000  331666.000000   \n",
       "mean   222008.799376     219.548672      40.190035       0.367222   \n",
       "std     22681.335813     131.266679      62.983640       0.482048   \n",
       "min    182210.000000      10.000000       0.000000       0.000000   \n",
       "25%    202231.000000     101.000000      27.000000       0.000000   \n",
       "50%    222219.000000     163.000000      37.000000       0.000000   \n",
       "75%    241841.000000     364.000000      48.000000       1.000000   \n",
       "max    266627.000000     495.000000    2018.000000       1.000000   \n",
       "\n",
       "       feridos_leves  feridos_graves         mortos  \n",
       "count  331666.000000   331666.000000  331666.000000  \n",
       "mean        0.332880        0.109698       0.038180  \n",
       "std         0.471245        0.312513       0.191631  \n",
       "min         0.000000        0.000000       0.000000  \n",
       "25%         0.000000        0.000000       0.000000  \n",
       "50%         0.000000        0.000000       0.000000  \n",
       "75%         1.000000        0.000000       0.000000  \n",
       "max         1.000000        1.000000       1.000000  "
      ]
     },
     "execution_count": 10,
     "metadata": {},
     "output_type": "execute_result"
    }
   ],
   "source": [
    "# resumo dos dados\n",
    "df.describe()"
   ]
  },
  {
   "cell_type": "markdown",
   "metadata": {},
   "source": [
    "## Agrupando acidentes\n",
    "Números da coluna \"id\" estarem repetidos ao longo do dataframe indica que diferentes observações dizem respeito a uma mesma ocorrência. Assim, sendo, antes de qualquer análise é necessário agrupar todos as ocorrências de um mesmo acidente, para cada acidente.\n",
    "Casos se deseje analisar a quantidade de acidentes em um determinado estado da federação, por exemplo, deve-se agrupar primeiramente por \"id\", depois por \"uf\" e realizar a contagem."
   ]
  },
  {
   "cell_type": "markdown",
   "metadata": {},
   "source": [
    "## Convertendo a coluna que contém a data para datetime object\n",
    "A coluna que contém a data é um 'string' (texto simples). Será necessário converter todos esses valores de modo a agrupá-los posteriormente."
   ]
  },
  {
   "cell_type": "code",
   "execution_count": 11,
   "metadata": {},
   "outputs": [
    {
     "data": {
      "text/html": [
       "<div>\n",
       "<style scoped>\n",
       "    .dataframe tbody tr th:only-of-type {\n",
       "        vertical-align: middle;\n",
       "    }\n",
       "\n",
       "    .dataframe tbody tr th {\n",
       "        vertical-align: top;\n",
       "    }\n",
       "\n",
       "    .dataframe thead th {\n",
       "        text-align: right;\n",
       "    }\n",
       "</style>\n",
       "<table border=\"1\" class=\"dataframe\">\n",
       "  <thead>\n",
       "    <tr style=\"text-align: right;\">\n",
       "      <th></th>\n",
       "      <th>data_inversa</th>\n",
       "      <th>Ano</th>\n",
       "      <th>Mês</th>\n",
       "      <th>Dia</th>\n",
       "      <th>Data</th>\n",
       "    </tr>\n",
       "  </thead>\n",
       "  <tbody>\n",
       "    <tr>\n",
       "      <th>0</th>\n",
       "      <td>2019-01-01</td>\n",
       "      <td>2019</td>\n",
       "      <td>1</td>\n",
       "      <td>1</td>\n",
       "      <td>2019-01-01</td>\n",
       "    </tr>\n",
       "    <tr>\n",
       "      <th>1</th>\n",
       "      <td>2019-01-01</td>\n",
       "      <td>2019</td>\n",
       "      <td>1</td>\n",
       "      <td>1</td>\n",
       "      <td>2019-01-01</td>\n",
       "    </tr>\n",
       "    <tr>\n",
       "      <th>2</th>\n",
       "      <td>2019-01-01</td>\n",
       "      <td>2019</td>\n",
       "      <td>1</td>\n",
       "      <td>1</td>\n",
       "      <td>2019-01-01</td>\n",
       "    </tr>\n",
       "    <tr>\n",
       "      <th>3</th>\n",
       "      <td>2019-01-01</td>\n",
       "      <td>2019</td>\n",
       "      <td>1</td>\n",
       "      <td>1</td>\n",
       "      <td>2019-01-01</td>\n",
       "    </tr>\n",
       "    <tr>\n",
       "      <th>4</th>\n",
       "      <td>2019-01-01</td>\n",
       "      <td>2019</td>\n",
       "      <td>1</td>\n",
       "      <td>1</td>\n",
       "      <td>2019-01-01</td>\n",
       "    </tr>\n",
       "    <tr>\n",
       "      <th>...</th>\n",
       "      <td>...</td>\n",
       "      <td>...</td>\n",
       "      <td>...</td>\n",
       "      <td>...</td>\n",
       "      <td>...</td>\n",
       "    </tr>\n",
       "    <tr>\n",
       "      <th>331661</th>\n",
       "      <td>2019-06-03</td>\n",
       "      <td>2019</td>\n",
       "      <td>6</td>\n",
       "      <td>3</td>\n",
       "      <td>2019-06-03</td>\n",
       "    </tr>\n",
       "    <tr>\n",
       "      <th>331662</th>\n",
       "      <td>2019-06-03</td>\n",
       "      <td>2019</td>\n",
       "      <td>6</td>\n",
       "      <td>3</td>\n",
       "      <td>2019-06-03</td>\n",
       "    </tr>\n",
       "    <tr>\n",
       "      <th>331663</th>\n",
       "      <td>2019-07-13</td>\n",
       "      <td>2019</td>\n",
       "      <td>7</td>\n",
       "      <td>13</td>\n",
       "      <td>2019-07-13</td>\n",
       "    </tr>\n",
       "    <tr>\n",
       "      <th>331664</th>\n",
       "      <td>2019-07-13</td>\n",
       "      <td>2019</td>\n",
       "      <td>7</td>\n",
       "      <td>13</td>\n",
       "      <td>2019-07-13</td>\n",
       "    </tr>\n",
       "    <tr>\n",
       "      <th>331665</th>\n",
       "      <td>2019-10-22</td>\n",
       "      <td>2019</td>\n",
       "      <td>10</td>\n",
       "      <td>22</td>\n",
       "      <td>2019-10-22</td>\n",
       "    </tr>\n",
       "  </tbody>\n",
       "</table>\n",
       "<p>331666 rows × 5 columns</p>\n",
       "</div>"
      ],
      "text/plain": [
       "       data_inversa   Ano  Mês  Dia       Data\n",
       "0        2019-01-01  2019    1    1 2019-01-01\n",
       "1        2019-01-01  2019    1    1 2019-01-01\n",
       "2        2019-01-01  2019    1    1 2019-01-01\n",
       "3        2019-01-01  2019    1    1 2019-01-01\n",
       "4        2019-01-01  2019    1    1 2019-01-01\n",
       "...             ...   ...  ...  ...        ...\n",
       "331661   2019-06-03  2019    6    3 2019-06-03\n",
       "331662   2019-06-03  2019    6    3 2019-06-03\n",
       "331663   2019-07-13  2019    7   13 2019-07-13\n",
       "331664   2019-07-13  2019    7   13 2019-07-13\n",
       "331665   2019-10-22  2019   10   22 2019-10-22\n",
       "\n",
       "[331666 rows x 5 columns]"
      ]
     },
     "execution_count": 11,
     "metadata": {},
     "output_type": "execute_result"
    }
   ],
   "source": [
    "df['Ano'] = pd.to_datetime(df['data_inversa']).dt.year\n",
    "df['Mês'] = pd.to_datetime(df['data_inversa']).dt.month\n",
    "df['Dia'] = pd.to_datetime(df['data_inversa']).dt.day\n",
    "df['Data'] = pd.to_datetime(df['data_inversa'])\n",
    "df[['data_inversa', 'Ano', 'Mês', 'Dia', 'Data']]"
   ]
  },
  {
   "cell_type": "markdown",
   "metadata": {},
   "source": [
    "## 1) Qual o número total de acidentes e sua evolução ao longo do ano?"
   ]
  },
  {
   "cell_type": "code",
   "execution_count": 12,
   "metadata": {},
   "outputs": [
    {
     "data": {
      "text/plain": [
       "67463"
      ]
     },
     "execution_count": 12,
     "metadata": {},
     "output_type": "execute_result"
    }
   ],
   "source": [
    "# número de acidentes\n",
    "df.groupby('id')['id'].count().count()"
   ]
  },
  {
   "cell_type": "markdown",
   "metadata": {},
   "source": [
    "outra forma de fazer, para conferir:"
   ]
  },
  {
   "cell_type": "code",
   "execution_count": 14,
   "metadata": {},
   "outputs": [
    {
     "data": {
      "text/plain": [
       "(67463, 26)"
      ]
     },
     "execution_count": 14,
     "metadata": {},
     "output_type": "execute_result"
    }
   ],
   "source": [
    "df = df.drop_duplicates(subset=\"id\", keep='first', inplace=False) \n",
    "acidentes.shape"
   ]
  },
  {
   "cell_type": "code",
   "execution_count": 15,
   "metadata": {},
   "outputs": [
    {
     "data": {
      "text/plain": [
       "RendererRegistry.enable('default')"
      ]
     },
     "execution_count": 15,
     "metadata": {},
     "output_type": "execute_result"
    }
   ],
   "source": [
    "# para renderizar o gráfico no próprio caderno\n",
    "alt.renderers.enable('default')"
   ]
  },
  {
   "cell_type": "code",
   "execution_count": null,
   "metadata": {},
   "outputs": [],
   "source": [
    "# habilitando a plotagem de um número maior de colunas (> 5000, default Altair)\n",
    "alt.data_transformers.disable_max_rows()\n",
    "# plotando o gráfico\n",
    "grafico = alt.Chart(data=acidentes, \n",
    "          title='Acidentes registrados por dia ao longo de 2019',\n",
    "          width=850, height=500).mark_bar(color='coral').encode(\n",
    "          x=alt.X('Data:T'),\n",
    "          y=alt.Y('count(id)', title='Número de acidentes registrados')\n",
    ")\n",
    "grafico.configure_title(color='black', fontSize=20, font='Arial')\n"
   ]
  },
  {
   "cell_type": "code",
   "execution_count": 35,
   "metadata": {},
   "outputs": [
    {
     "data": {
      "image/png": "[encoded data removed]",
      "text/plain": [
       "<IPython.core.display.Image object>"
      ]
     },
     "metadata": {},
     "output_type": "display_data"
    }
   ],
   "source": [
    "from IPython.display import Image, display\n",
    "Image(filename='01.png') \n",
    "display(Image(filename='01.png'))"
   ]
  },
  {
   "cell_type": "code",
   "execution_count": null,
   "metadata": {},
   "outputs": [],
   "source": [
    "# plotando o gráfico\n",
    "grafico_2 = alt.Chart(data=acidentes, \n",
    "          title='Acidentes registrados por mês ao longo de 2019',\n",
    "          width=850, height=500).mark_bar(color='coral').encode(\n",
    "          x=alt.X('Mês:N'),\n",
    "          y=alt.Y('count(id)', title='Número de acidentes registrados por mês')\n",
    ")\n",
    "grafico_2.configure_title(color='black', fontSize=20, font='Arial')"
   ]
  },
  {
   "cell_type": "code",
   "execution_count": 36,
   "metadata": {},
   "outputs": [
    {
     "data": {
      "image/png": "[encoded data removed]",
      "text/plain": [
       "<IPython.core.display.Image object>"
      ]
     },
     "metadata": {},
     "output_type": "display_data"
    }
   ],
   "source": [
    "from IPython.display import Image, display\n",
    "Image(filename='02.png') \n",
    "display(Image(filename='02.png'))"
   ]
  },
  {
   "cell_type": "markdown",
   "metadata": {},
   "source": [
    "## 2) Que dias da semana tiveram mais acidentes?\n"
   ]
  },
  {
   "cell_type": "code",
   "execution_count": 17,
   "metadata": {},
   "outputs": [
    {
     "data": {
      "text/plain": [
       "dia_semana\n",
       "domingo          11301\n",
       "sábado           11103\n",
       "sexta-feira      10384\n",
       "segunda-feira     9136\n",
       "quinta-feira      8756\n",
       "terça-feira       8407\n",
       "quarta-feira      8376\n",
       "Name: id, dtype: int64"
      ]
     },
     "execution_count": 17,
     "metadata": {},
     "output_type": "execute_result"
    }
   ],
   "source": [
    "acidentes.groupby('dia_semana')['id'].count().sort_values(ascending=False)"
   ]
  },
  {
   "cell_type": "code",
   "execution_count": 18,
   "metadata": {},
   "outputs": [
    {
     "data": {
      "text/plain": [
       "[Text(0.5, 1.0, 'Acidentes por dia da semana'),\n",
       " Text(0.5, 0, 'Dias da semana'),\n",
       " Text(0, 0.5, 'Número de acidentes')]"
      ]
     },
     "execution_count": 18,
     "metadata": {},
     "output_type": "execute_result"
    },
    {
     "data": {
      "image/png": "[encoded data removed]",
      "text/plain": [
       "<Figure size 648x432 with 1 Axes>"
      ]
     },
     "metadata": {
      "needs_background": "light"
     },
     "output_type": "display_data"
    }
   ],
   "source": [
    "# criando palette de cores\n",
    "flatui = [\"#9b59b6\", \"#3498db\", \"#95a5a6\", \"#e74c3c\", \"#34495e\", \"#2ecc71\"]\n",
    "# ajustando as dimensões do gráfico\n",
    "fig_dims = (9, 6)\n",
    "fig, ax = plt.subplots(figsize=fig_dims)\n",
    "# plotando o gráfico\n",
    "grafico_3 = sns.countplot(data=acidentes, x='dia_semana', palette=flatui)\n",
    "grafico_3.set_xticklabels(\n",
    "    grafico_3.get_xticklabels(), \n",
    "    rotation=45, \n",
    "    horizontalalignment='right',\n",
    "    fontsize='x-large'\n",
    ")\n",
    "grafico_3.set(title='Acidentes por dia da semana', \n",
    "              xlabel='Dias da semana', \n",
    "              ylabel='Número de acidentes')"
   ]
  },
  {
   "cell_type": "markdown",
   "metadata": {},
   "source": [
    "## 3)\tQual o horário com o maior número de acidentes?"
   ]
  },
  {
   "cell_type": "code",
   "execution_count": 19,
   "metadata": {},
   "outputs": [
    {
     "data": {
      "text/plain": [
       "horario\n",
       "19:00:00    983\n",
       "18:00:00    930\n",
       "18:30:00    920\n",
       "19:30:00    773\n",
       "16:00:00    744\n",
       "           ... \n",
       "09:09:00      1\n",
       "04:16:00      1\n",
       "21:27:00      1\n",
       "04:13:00      1\n",
       "06:14:00      1\n",
       "Name: id, Length: 1304, dtype: int64"
      ]
     },
     "execution_count": 19,
     "metadata": {},
     "output_type": "execute_result"
    }
   ],
   "source": [
    "acidentes.groupby('horario')['id'].count().sort_values(ascending=False)"
   ]
  },
  {
   "cell_type": "markdown",
   "metadata": {},
   "source": [
    "## 4) Qual parte do dia possui o maior número de acidentes?"
   ]
  },
  {
   "cell_type": "code",
   "execution_count": 20,
   "metadata": {},
   "outputs": [
    {
     "data": {
      "text/plain": [
       "fase_dia\n",
       "Pleno dia      36927\n",
       "Plena Noite    23571\n",
       "Anoitecer       3684\n",
       "Amanhecer       3281\n",
       "Name: id, dtype: int64"
      ]
     },
     "execution_count": 20,
     "metadata": {},
     "output_type": "execute_result"
    }
   ],
   "source": [
    "acidentes.groupby('fase_dia')['id'].count().sort_values(ascending=False)"
   ]
  },
  {
   "cell_type": "markdown",
   "metadata": {},
   "source": [
    "## 5) Qual a distribuição dos acidentes de acordo com a condição meteorológica?"
   ]
  },
  {
   "cell_type": "code",
   "execution_count": 21,
   "metadata": {},
   "outputs": [
    {
     "data": {
      "text/plain": [
       "condicao_metereologica\n",
       "Céu Claro           39383\n",
       "Nublado             11576\n",
       "Chuva                7218\n",
       "Sol                  5289\n",
       "Garoa/Chuvisco       2305\n",
       "Ignorado              996\n",
       "Nevoeiro/Neblina      554\n",
       "Vento                 137\n",
       "Granizo                 4\n",
       "Neve                    1\n",
       "Name: id, dtype: int64"
      ]
     },
     "execution_count": 21,
     "metadata": {},
     "output_type": "execute_result"
    }
   ],
   "source": [
    "acidentes.groupby('condicao_metereologica')['id'].count().sort_values(ascending=False)"
   ]
  },
  {
   "cell_type": "markdown",
   "metadata": {},
   "source": [
    "## 6) Quais estados registraram mais acidentes?"
   ]
  },
  {
   "cell_type": "code",
   "execution_count": 22,
   "metadata": {},
   "outputs": [
    {
     "data": {
      "text/plain": [
       "uf\n",
       "MG    8721\n",
       "SC    8429\n",
       "PR    7710\n",
       "RJ    4607\n",
       "RS    4596\n",
       "SP    4377\n",
       "BA    3474\n",
       "GO    3356\n",
       "ES    2843\n",
       "PE    2736\n",
       "MT    2139\n",
       "CE    1694\n",
       "PB    1564\n",
       "RO    1533\n",
       "RN    1437\n",
       "MS    1435\n",
       "PI    1346\n",
       "DF    1090\n",
       "MA    1076\n",
       "PA     818\n",
       "AL     629\n",
       "SE     612\n",
       "TO     520\n",
       "AC     255\n",
       "RR     237\n",
       "AP     128\n",
       "AM     101\n",
       "Name: id, dtype: int64"
      ]
     },
     "execution_count": 22,
     "metadata": {},
     "output_type": "execute_result"
    }
   ],
   "source": [
    "acidentes.groupby('uf')['id'].count().sort_values(ascending=False)"
   ]
  },
  {
   "cell_type": "code",
   "execution_count": null,
   "metadata": {},
   "outputs": [],
   "source": [
    "# criando um novo dataframe com a contagem de acidentes agrupando por estados\n",
    "estados = acidentes.groupby(['uf'])['id'].count().to_frame().reset_index()\n",
    "# plotando o gráfico\n",
    "grafico_4 = alt.Chart(data=estados, title='Acidentes por Unidade Federativa', \n",
    "                      width=850, height=500).mark_bar().encode(\n",
    "    x=alt.X('uf', title='Unidade Federativa'),\n",
    "    y=alt.Y('id', title='Quantidade de solicitações'),\n",
    "    color=alt.Color('uf', scale=alt.Scale(scheme='set1'))\n",
    ")\n",
    "grafico_4"
   ]
  },
  {
   "cell_type": "code",
   "execution_count": 38,
   "metadata": {},
   "outputs": [
    {
     "data": {
      "image/png": "[encoded data removed]",
      "text/plain": [
       "<IPython.core.display.Image object>"
      ]
     },
     "metadata": {},
     "output_type": "display_data"
    }
   ],
   "source": [
    "from IPython.display import Image, display\n",
    "Image(filename='04.png') \n",
    "display(Image(filename='04.png'))"
   ]
  },
  {
   "cell_type": "markdown",
   "metadata": {},
   "source": [
    "## 7) Quais cidades registraram mais acidentes?"
   ]
  },
  {
   "cell_type": "code",
   "execution_count": 23,
   "metadata": {},
   "outputs": [
    {
     "data": {
      "text/plain": [
       "municipio\n",
       "CURITIBA             1094\n",
       "BRASILIA             1090\n",
       "SAO JOSE              819\n",
       "GUARULHOS             717\n",
       "SERRA                 633\n",
       "                     ... \n",
       "LAURENTINO              1\n",
       "DOIS RIACHOS            1\n",
       "SANTA FE DE GOIAS       1\n",
       "DOM PEDRO               1\n",
       "ZE DOCA                 1\n",
       "Name: id, Length: 1767, dtype: int64"
      ]
     },
     "execution_count": 23,
     "metadata": {},
     "output_type": "execute_result"
    }
   ],
   "source": [
    "acidentes.groupby('municipio')['id'].count().sort_values(ascending=False)"
   ]
  },
  {
   "cell_type": "markdown",
   "metadata": {},
   "source": [
    "## 8) Quais rodovias tiveram mais acidentes? Quais eram os tipos dessas rodovias e o seu traçado?"
   ]
  },
  {
   "cell_type": "code",
   "execution_count": 24,
   "metadata": {},
   "outputs": [
    {
     "data": {
      "text/plain": [
       "br\n",
       "101.0    11356\n",
       "116.0     9607\n",
       "381.0     3275\n",
       "40.0      3244\n",
       "153.0     2612\n",
       "         ...  \n",
       "352.0        1\n",
       "422.0        1\n",
       "383.0        1\n",
       "342.0        1\n",
       "403.0        1\n",
       "Name: id, Length: 115, dtype: int64"
      ]
     },
     "execution_count": 24,
     "metadata": {},
     "output_type": "execute_result"
    }
   ],
   "source": [
    "acidentes.groupby('br')['id'].count().sort_values(ascending=False)"
   ]
  },
  {
   "cell_type": "markdown",
   "metadata": {},
   "source": [
    "## 9) Quais as causas mais comuns de acidentes?"
   ]
  },
  {
   "cell_type": "code",
   "execution_count": 25,
   "metadata": {},
   "outputs": [
    {
     "data": {
      "text/plain": [
       "causa_acidente\n",
       "Falta de Atenção à Condução                                                       24993\n",
       "Desobediência às normas de trânsito pelo condutor                                  8073\n",
       "Velocidade Incompatível                                                            6017\n",
       "Ingestão de Álcool                                                                 5301\n",
       "Não guardar distância de segurança                                                 4186\n",
       "Defeito Mecânico no Veículo                                                        3718\n",
       "Condutor Dormindo                                                                  2485\n",
       "Pista Escorregadia                                                                 2244\n",
       "Falta de Atenção do Pedestre                                                       1944\n",
       "Animais na Pista                                                                   1498\n",
       "Ultrapassagem Indevida                                                             1152\n",
       "Defeito na Via                                                                     1007\n",
       "Avarias e/ou desgaste excessivo no pneu                                             844\n",
       "Mal Súbito                                                                          712\n",
       "Restrição de Visibilidade                                                           556\n",
       "Objeto estático sobre o leito carroçável                                            440\n",
       "Desobediência às normas de trânsito pelo pedestre                                   399\n",
       "Ingestão de álcool e/ou substâncias psicoativas pelo pedestre                       388\n",
       "Agressão Externa                                                                    374\n",
       "Carga excessiva e/ou mal acondicionada                                              317\n",
       "Sinalização da via insuficiente ou inadequada                                       282\n",
       "Fenômenos da Natureza                                                               274\n",
       "Deficiência ou não Acionamento do Sistema de Iluminação/Sinalização do Veículo      168\n",
       "Ingestão de Substâncias Psicoativas                                                  91\n",
       "Name: id, dtype: int64"
      ]
     },
     "execution_count": 25,
     "metadata": {},
     "output_type": "execute_result"
    }
   ],
   "source": [
    "acidentes.groupby('causa_acidente')['id'].count().sort_values(ascending=False)"
   ]
  },
  {
   "cell_type": "markdown",
   "metadata": {},
   "source": [
    "## 10) Quais os tipos de acidentes mais comuns?"
   ]
  },
  {
   "cell_type": "code",
   "execution_count": 26,
   "metadata": {},
   "outputs": [
    {
     "data": {
      "text/plain": [
       "tipo_acidente\n",
       "Colisão traseira                   10390\n",
       "Queda de ocupante de veículo        7586\n",
       "Tombamento                          7348\n",
       "Colisão transversal                 7103\n",
       "Saída de leito carroçável           6559\n",
       "Colisão lateral                     6002\n",
       "Colisão com objeto estático         5827\n",
       "Capotamento                         5603\n",
       "Colisão frontal                     3555\n",
       "Atropelamento de Pedestre           3290\n",
       "Incêndio                            1310\n",
       "Engavetamento                        903\n",
       "Atropelamento de Animal              853\n",
       "Derramamento de carga                557\n",
       "Colisão com objeto em movimento      343\n",
       "Danos eventuais                      217\n",
       "Name: id, dtype: int64"
      ]
     },
     "execution_count": 26,
     "metadata": {},
     "output_type": "execute_result"
    }
   ],
   "source": [
    "acidentes.groupby('tipo_acidente')['id'].count().sort_values(ascending=False)"
   ]
  },
  {
   "cell_type": "markdown",
   "metadata": {},
   "source": [
    "## 11) Qual a média de idade das pessoas envolvidas em acidentes?"
   ]
  },
  {
   "cell_type": "code",
   "execution_count": 27,
   "metadata": {},
   "outputs": [
    {
     "data": {
      "text/plain": [
       "idade\n",
       "24.0      1598\n",
       "23.0      1583\n",
       "26.0      1577\n",
       "30.0      1522\n",
       "27.0      1522\n",
       "          ... \n",
       "131.0        1\n",
       "106.0        1\n",
       "96.0         1\n",
       "93.0         1\n",
       "2017.0       1\n",
       "Name: id, Length: 114, dtype: int64"
      ]
     },
     "execution_count": 27,
     "metadata": {},
     "output_type": "execute_result"
    }
   ],
   "source": [
    "acidentes.groupby('idade')['id'].count().sort_values(ascending=False)"
   ]
  },
  {
   "cell_type": "code",
   "execution_count": 28,
   "metadata": {},
   "outputs": [
    {
     "data": {
      "text/plain": [
       "39.00024124109264"
      ]
     },
     "execution_count": 28,
     "metadata": {},
     "output_type": "execute_result"
    }
   ],
   "source": [
    "acidentes['idade'].mean()"
   ]
  },
  {
   "cell_type": "markdown",
   "metadata": {},
   "source": [
    "## 12) Como é a distribuição dos acidentes por sexo?"
   ]
  },
  {
   "cell_type": "code",
   "execution_count": 29,
   "metadata": {},
   "outputs": [
    {
     "data": {
      "text/plain": [
       "sexo\n",
       "Feminino         13428\n",
       "Ignorado           408\n",
       "Masculino        42426\n",
       "Não Informado    11201\n",
       "Name: sexo, dtype: int64"
      ]
     },
     "execution_count": 29,
     "metadata": {},
     "output_type": "execute_result"
    }
   ],
   "source": [
    "acidentes.groupby('sexo')['sexo'].count()"
   ]
  },
  {
   "cell_type": "markdown",
   "metadata": {},
   "source": [
    "## 13) Qual o número total de:\n",
    "a) Feridos leves\n",
    "b) Feridos graves\n",
    "c) Mortos"
   ]
  },
  {
   "cell_type": "code",
   "execution_count": 30,
   "metadata": {},
   "outputs": [
    {
     "data": {
      "text/plain": [
       "feridos_leves\n",
       "0    37189\n",
       "1    30274\n",
       "Name: feridos_leves, dtype: int64"
      ]
     },
     "execution_count": 30,
     "metadata": {},
     "output_type": "execute_result"
    }
   ],
   "source": [
    "acidentes.groupby('feridos_leves')['feridos_leves'].count()"
   ]
  },
  {
   "cell_type": "code",
   "execution_count": 31,
   "metadata": {},
   "outputs": [
    {
     "data": {
      "text/plain": [
       "feridos_graves\n",
       "0    57711\n",
       "1     9752\n",
       "Name: feridos_graves, dtype: int64"
      ]
     },
     "execution_count": 31,
     "metadata": {},
     "output_type": "execute_result"
    }
   ],
   "source": [
    "acidentes.groupby('feridos_graves')['feridos_graves'].count()"
   ]
  },
  {
   "cell_type": "code",
   "execution_count": 32,
   "metadata": {},
   "outputs": [
    {
     "data": {
      "text/plain": [
       "mortos\n",
       "0    65155\n",
       "1     2308\n",
       "Name: mortos, dtype: int64"
      ]
     },
     "execution_count": 32,
     "metadata": {},
     "output_type": "execute_result"
    }
   ],
   "source": [
    "acidentes.groupby('mortos')['mortos'].count()"
   ]
  },
  {
   "cell_type": "markdown",
   "metadata": {},
   "source": [
    "## 14) Qual a distribuição dos acidentes de acordo com o tipo de veículo?"
   ]
  },
  {
   "cell_type": "code",
   "execution_count": 33,
   "metadata": {},
   "outputs": [
    {
     "data": {
      "text/plain": [
       "tipo_veiculo\n",
       "Automóvel            23473\n",
       "Motocicleta          19014\n",
       "Semireboque           7848\n",
       "Caminhonete           4616\n",
       "Caminhão              3816\n",
       "Motoneta              2359\n",
       "Bicicleta             1524\n",
       "Camioneta             1208\n",
       "Ônibus                 847\n",
       "Caminhão-trator        731\n",
       "Reboque                577\n",
       "Utilitário             548\n",
       "Outros                 287\n",
       "Micro-ônibus           277\n",
       "Ciclomotor             258\n",
       "Carroça-charrete        38\n",
       "Trator de rodas         21\n",
       "Triciclo                 9\n",
       "Não Informado            7\n",
       "Carro de mão             3\n",
       "Trator misto             1\n",
       "Trator de esteira        1\n",
       "Name: id, dtype: int64"
      ]
     },
     "execution_count": 33,
     "metadata": {},
     "output_type": "execute_result"
    }
   ],
   "source": [
    "acidentes.groupby('tipo_veiculo')['id'].count().sort_values(ascending=False)"
   ]
  }
 ],
 "metadata": {
  "kernelspec": {
   "display_name": "Python 3",
   "language": "python",
   "name": "python3"
  },
  "language_info": {
   "codemirror_mode": {
    "name": "ipython",
    "version": 3
   },
   "file_extension": ".py",
   "mimetype": "text/x-python",
   "name": "python",
   "nbconvert_exporter": "python",
   "pygments_lexer": "ipython3",
   "version": "3.7.7"
  }
 },
 "nbformat": 4,
 "nbformat_minor": 4
}
